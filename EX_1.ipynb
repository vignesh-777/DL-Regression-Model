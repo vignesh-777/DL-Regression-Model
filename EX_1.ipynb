{
  "cells": [
    {
      "cell_type": "code",
      "execution_count": null,
      "metadata": {
        "id": "JOaCJkogcawG"
      },
      "outputs": [],
      "source": [
        "import torch\n",
        "import torch.nn as nn  # Neural network module\n",
        "import matplotlib.pyplot as plt  # For plotting"
      ]
    },
    {
      "cell_type": "code",
      "execution_count": null,
      "metadata": {
        "id": "gSXLmYXOccJN"
      },
      "outputs": [],
      "source": [
        "#  Generate Input Data (X) and Output Data (y)\n",
        "torch.manual_seed(71)  # For reproducibility\n",
        "X=torch.linspace(1,50,50).reshape(-1,1)\n",
        "e=torch.randint(-8,9,(50,1),dtype=torch.float)\n",
        "y=2*X+1+e\n"
      ]
    },
    {
      "cell_type": "code",
      "execution_count": null,
      "metadata": {
        "id": "n7aNBFVGcf9e"
      },
      "outputs": [],
      "source": [
        "# Plot the original data\n",
        "plt.scatter(X, y, color='red')\n",
        "plt.xlabel('x')\n",
        "plt.ylabel('y')\n",
        "plt.title('Generated Data for Linear Regression')\n",
        "plt.show()"
      ]
    },
    {
      "cell_type": "code",
      "execution_count": null,
      "metadata": {
        "id": "ICCFjZWlchYe"
      },
      "outputs": [],
      "source": [
        "# Define the Linear Model Class\n",
        "class Model(nn.Module):\n",
        "    def __init__(self, in_features, out_features):\n",
        "        super().__init__()\n",
        "        self.linear=nn.Linear(in_features,out_features)\n",
        "\n",
        "    def forward(self, x):\n",
        "        return self.linear(x)"
      ]
    },
    {
      "cell_type": "code",
      "execution_count": null,
      "metadata": {
        "id": "eU-vA-A3cjad"
      },
      "outputs": [],
      "source": [
        "# Initialize the Model\n",
        "torch.manual_seed(59)  # Ensure same initial weights\n",
        "model = Model(1, 1)"
      ]
    },
    {
      "cell_type": "code",
      "execution_count": null,
      "metadata": {
        "id": "ltfNcS_7cmA9"
      },
      "outputs": [],
      "source": [
        "# Print Initial Weights and Bias\n",
        "initial_weight = model.linear.weight.item()\n",
        "initial_bias = model.linear.bias.item()\n",
        "print(\"\\nName: vignesh R\")\n",
        "print(\"Register No: 212223240177\")\n",
        "print(f'Initial Weight: {initial_weight:.8f}, Initial Bias: {initial_bias:.8f}\\n')"
      ]
    },
    {
      "cell_type": "code",
      "execution_count": null,
      "metadata": {
        "id": "-CJM6T6Hcn8O"
      },
      "outputs": [],
      "source": [
        "# Define Loss Function & Optimizer\n",
        "loss_function=nn.MSELoss()\n",
        "optimizer=torch.optim.SGD(model.parameters(),lr=0.001)"
      ]
    },
    {
      "cell_type": "code",
      "execution_count": null,
      "metadata": {
        "id": "_Rprc91Ucp5t"
      },
      "outputs": [],
      "source": [
        "# Train the Model\n",
        "epochs = 100\n",
        "losses = []\n",
        "\n",
        "for epoch in range(1, epochs + 1):  # Loop over epochs\n",
        "    optimizer.zero_grad()\n",
        "    y_pred=model(X)\n",
        "    loss=loss_function(y_pred,y)\n",
        "    losses.append(loss.item())\n",
        "    loss.backward()\n",
        "    optimizer.step()\n",
        "\n",
        "    # Print loss, weight, and bias for EVERY epoch\n",
        "    print(f'epoch: {epoch:2}  loss: {loss.item():10.8f}  '\n",
        "          f'weight: {model.linear.weight.item():10.8f}  '\n",
        "          f'bias: {model.linear.bias.item():10.8f}')"
      ]
    },
    {
      "cell_type": "code",
      "execution_count": null,
      "metadata": {
        "id": "93UzUapMcty1"
      },
      "outputs": [],
      "source": [
        "# Plot Loss Curve\n",
        "plt.plot(range(epochs), losses, color='blue')\n",
        "plt.ylabel('Loss')\n",
        "plt.xlabel('Epoch')\n",
        "plt.title('Loss Curve')\n",
        "plt.show()"
      ]
    },
    {
      "cell_type": "code",
      "execution_count": null,
      "metadata": {
        "id": "iB9de1FLcvG2"
      },
      "outputs": [],
      "source": [
        "# Final Weights & Bias\n",
        "final_weight = model.linear.weight.item()\n",
        "final_bias = model.linear.bias.item()\n",
        "print(\"\\nName: vignesh R\")\n",
        "print(\"Register No: 212223240177\")\n",
        "print(f'\\nFinal Weight: {final_weight:.8f}, Final Bias: {final_bias:.8f}')"
      ]
    },
    {
      "cell_type": "code",
      "execution_count": null,
      "metadata": {
        "id": "xnBrogxvcwrt"
      },
      "outputs": [],
      "source": [
        "#  Best-Fit Line Calculation\n",
        "x1 = torch.tensor([X.min().item(), X.max().item()]) # Find min and max values of X\n",
        "y1 = x1 * final_weight + final_bias # Compute corresponding y-values using trained model"
      ]
    },
    {
      "cell_type": "code",
      "execution_count": null,
      "metadata": {
        "id": "q11yCmifcyWk"
      },
      "outputs": [],
      "source": [
        "# Plot Original Data & Best-Fit Line\n",
        "plt.scatter(X, y, label=\"Original Data\")\n",
        "plt.plot(x1, y1, 'r', label=\"Best-Fit Line\")\n",
        "plt.xlabel('x')\n",
        "plt.ylabel('y')\n",
        "plt.title('Trained Model: Best-Fit Line')\n",
        "plt.legend()\n",
        "plt.show()"
      ]
    },
    {
      "cell_type": "code",
      "execution_count": null,
      "metadata": {
        "id": "PLILna_ucz91"
      },
      "outputs": [],
      "source": [
        "# Prediction for x = 120\n",
        "x_new = torch.tensor([[120.0]])  # New input as a tensor\n",
        "y_new_pred = model(x_new).item()  # Predict using trained model\n",
        "print(\"\\nName: vignesh R\")\n",
        "print(\"Register No: 212223240177\")\n",
        "print(f\"\\nPrediction for x = 120: {y_new_pred:.8f}\")"
      ]
    }
  ],
  "metadata": {
    "colab": {
      "provenance": []
    },
    "kernelspec": {
      "display_name": "Python 3",
      "name": "python3"
    },
    "language_info": {
      "name": "python"
    }
  },
  "nbformat": 4,
  "nbformat_minor": 0
}
